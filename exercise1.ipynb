{
 "cells": [
  {
   "cell_type": "markdown",
   "metadata": {},
   "source": [
    "## Exercise 1\n",
    "### Energy Efficient Distributed Systems\n",
    "#### SS 21\n",
    "Kawczynski Christopher, Mazi Emeka, Bacca Lorenz"
   ]
  },
  {
   "cell_type": "markdown",
   "metadata": {},
   "source": [
    "## Task 1"
   ]
  },
  {
   "cell_type": "markdown",
   "metadata": {},
   "source": [
    "Find two datasets (time-series): *Preferably from IoT systems/sensors; *Datasets should\n",
    "contain different characteristics (e.g., they can have seasonality, deterministic trend, or\n",
    "stationary properties). [1-5] might be a good starting point for checking; *Show graphs of\n",
    "selected datasets including characteristics such as dataset sources, metrics, range of values,\n",
    "size, number of data points, characteristics (volatility, mean), etc."
   ]
  },
  {
   "cell_type": "markdown",
   "metadata": {},
   "source": [
    "### Dataset 1"
   ]
  },
  {
   "cell_type": "markdown",
   "metadata": {},
   "source": [
    "### Dataset 2"
   ]
  },
  {
   "cell_type": "markdown",
   "metadata": {},
   "source": [
    "## Task 2"
   ]
  },
  {
   "cell_type": "markdown",
   "metadata": {},
   "source": [
    "Discuss and justify your implementation choices for programming language/framework,\n",
    "methodologies, libraries, packages, etc."
   ]
  },
  {
   "cell_type": "markdown",
   "metadata": {},
   "source": [
    "## Task 3"
   ]
  },
  {
   "cell_type": "markdown",
   "metadata": {},
   "source": [
    "Select and briefly describe two forecasting methods/models that you plan to use in your\n",
    "mechanism for the edge analytics."
   ]
  },
  {
   "cell_type": "markdown",
   "metadata": {},
   "source": [
    "## Task 4"
   ]
  },
  {
   "cell_type": "markdown",
   "metadata": {},
   "source": [
    "Select and describe one forecast accuracy measure that will be used for the evaluation."
   ]
  },
  {
   "cell_type": "markdown",
   "metadata": {},
   "source": [
    "## Task 5"
   ]
  },
  {
   "cell_type": "markdown",
   "metadata": {},
   "source": [
    "The idea behind the first presentation is to: find potential datasets for experiments; select and\n",
    "get familiar with potential forecasting methods; get familiar with coding environment by\n",
    "importing datasets, plotting them, and extracting some simple characteristics; detect potential\n",
    "libraries and packages."
   ]
  },
  {
   "cell_type": "markdown",
   "metadata": {},
   "source": [
    "Send slides of given presentation with the subject: “EEDS Assignment P1”, to\n",
    "ivan@ec.tuwien.ac.at (Cc: ivona@ec.tuwien.ac.at). "
   ]
  }
 ],
 "metadata": {
  "kernelspec": {
   "display_name": "Python 3",
   "language": "python",
   "name": "python3"
  },
  "language_info": {
   "codemirror_mode": {
    "name": "ipython",
    "version": 3
   },
   "file_extension": ".py",
   "mimetype": "text/x-python",
   "name": "python",
   "nbconvert_exporter": "python",
   "pygments_lexer": "ipython3",
   "version": "3.7.1"
  }
 },
 "nbformat": 4,
 "nbformat_minor": 2
}
