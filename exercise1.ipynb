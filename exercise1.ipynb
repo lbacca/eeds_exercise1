{
 "cells": [
  {
   "cell_type": "markdown",
   "metadata": {},
   "source": [
    "## Exercise 1\n",
    "### Energy Efficient Distributed Systems\n",
    "#### SS 21\n",
    "Kawczynski Christopher, Mazi Emeka, Bacca Lorenz"
   ]
  },
  {
   "cell_type": "markdown",
   "metadata": {},
   "source": [
    "## Task 1"
   ]
  },
  {
   "cell_type": "markdown",
   "metadata": {},
   "source": [
    "Find two datasets (time-series): *Preferably from IoT systems/sensors; *Datasets should\n",
    "contain different characteristics (e.g., they can have seasonality, deterministic trend, or\n",
    "stationary properties). [1-5] might be a good starting point for checking; *Show graphs of\n",
    "selected datasets including characteristics such as dataset sources, metrics, range of values,\n",
    "size, number of data points, characteristics (volatility, mean), etc."
   ]
  },
  {
   "cell_type": "markdown",
   "metadata": {},
   "source": [
    "### Dataset 1"
   ]
  },
  {
   "cell_type": "markdown",
   "metadata": {},
   "source": [
    "Christopher"
   ]
  },
  {
   "cell_type": "markdown",
   "metadata": {},
   "source": [
    "### Dataset 2"
   ]
  },
  {
   "cell_type": "markdown",
   "metadata": {},
   "source": [
    "Mazi"
   ]
  },
  {
   "cell_type": "markdown",
   "metadata": {},
   "source": [
    "## Task 2"
   ]
  },
  {
   "cell_type": "markdown",
   "metadata": {},
   "source": [
    "Discuss and justify your implementation choices for programming language/framework,\n",
    "methodologies, libraries, packages, etc."
   ]
  },
  {
   "cell_type": "markdown",
   "metadata": {},
   "source": [
    "Lorenz"
   ]
  },
  {
   "cell_type": "markdown",
   "metadata": {},
   "source": [
    "## Task 3"
   ]
  },
  {
   "cell_type": "markdown",
   "metadata": {},
   "source": [
    "Select and briefly describe two forecasting methods/models that you plan to use in your\n",
    "mechanism for the edge analytics."
   ]
  },
  {
   "cell_type": "markdown",
   "metadata": {},
   "source": [
    "#### ARIMA"
   ]
  },
  {
   "cell_type": "markdown",
   "metadata": {},
   "source": [
    "ARIMA stands for Autoregressive Integrated Moving Average and is a class of model that captures a suite of different standard temporal structures in time series data. An ARIMA model is a generalization of the simpler AutoRegressive Moving Average and adds the notion of integration. It contains three different components: 1) AR (which stands for Autoregression) is a model that uses the dependent relationship between an observation and some number of lagged observations. 2) I (which stands for Integrated) which is the use of differencing of raw observations in order to make the time series stationary. 3) MA (which stands for Moving Average) is a model that uses the dependency between an observation and a residual error from a moving average model applied to lagged observations."
   ]
  },
  {
   "cell_type": "markdown",
   "metadata": {},
   "source": [
    "#### Facebook Prophet"
   ]
  },
  {
   "cell_type": "markdown",
   "metadata": {},
   "source": [
    "Prophet is a forecasting framework developed by Facebook which should provide fast forecasts in an automated way but having the possibility to tune parameters manually. Prophet is based on trend (non-periodic changes), seasonality (periodic changes), holidays, additional regressors and a gaussian error term. The framework tries to find the optimal parameters automatically, they can however be supplied manually as well. The forecast can also supply the uncertainty."
   ]
  },
  {
   "cell_type": "markdown",
   "metadata": {},
   "source": [
    "## Task 4"
   ]
  },
  {
   "cell_type": "markdown",
   "metadata": {},
   "source": [
    "Select and describe one forecast accuracy measure that will be used for the evaluation."
   ]
  },
  {
   "cell_type": "markdown",
   "metadata": {},
   "source": [
    "#### SMAPE"
   ]
  },
  {
   "cell_type": "markdown",
   "metadata": {},
   "source": [
    "SMAPE stands for Symmetric mean absolute percentage error and is an accuracy measurement that is based on percentages. "
   ]
  },
  {
   "cell_type": "markdown",
   "metadata": {},
   "source": [
    "<img src=\"https://wikimedia.org/api/rest_v1/media/math/render/svg/9d7003eba8a7ffe2379cd5c232adf78daa3d1edf\">"
   ]
  },
  {
   "cell_type": "markdown",
   "metadata": {},
   "source": [
    "A_t is the actual value and F_t is the forecast value. In contrast to the mean absolute percentage error, SMAPE has both a lower bound and an upper bound and gives values between 0% and 100%. "
   ]
  },
  {
   "cell_type": "markdown",
   "metadata": {},
   "source": [
    "## Task 5"
   ]
  },
  {
   "cell_type": "markdown",
   "metadata": {},
   "source": [
    "The idea behind the first presentation is to: find potential datasets for experiments; select and\n",
    "get familiar with potential forecasting methods; get familiar with coding environment by\n",
    "importing datasets, plotting them, and extracting some simple characteristics; detect potential\n",
    "libraries and packages."
   ]
  },
  {
   "cell_type": "markdown",
   "metadata": {},
   "source": [
    "Send slides of given presentation with the subject: “EEDS Assignment P1”, to\n",
    "ivan@ec.tuwien.ac.at (Cc: ivona@ec.tuwien.ac.at). "
   ]
  }
 ],
 "metadata": {
  "kernelspec": {
   "display_name": "Python 3",
   "language": "python",
   "name": "python3"
  },
  "language_info": {
   "codemirror_mode": {
    "name": "ipython",
    "version": 3
   },
   "file_extension": ".py",
   "mimetype": "text/x-python",
   "name": "python",
   "nbconvert_exporter": "python",
   "pygments_lexer": "ipython3",
   "version": "3.7.1"
  }
 },
 "nbformat": 4,
 "nbformat_minor": 2
}
